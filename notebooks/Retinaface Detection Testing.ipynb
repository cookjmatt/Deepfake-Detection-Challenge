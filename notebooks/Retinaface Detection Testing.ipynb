{
 "cells": [
  {
   "cell_type": "code",
   "execution_count": 1,
   "metadata": {},
   "outputs": [],
   "source": [
    "import os\n",
    "import cv2\n",
    "import time\n",
    "from pathlib import Path\n",
    "import numpy as np\n",
    "import pandas as pd\n",
    "import torch\n",
    "import torch.backends.cudnn as cudnn\n",
    "import matplotlib.pyplot as plt\n",
    "from Retinaface.get_model import get_model\n",
    "from Retinaface.layers.prior_box import PriorBox\n",
    "from Retinaface.utils.box_utils import decode, decode_landm\n",
    "from Retinaface.utils.py_cpu_nms import py_cpu_nms\n",
    "from Retinaface.config import cfg_mnet\n",
    "\n",
    "torch.set_printoptions(sci_mode=False, linewidth=300, precision=2)\n",
    "np.set_printoptions(suppress=True, linewidth=300, precision=2)"
   ]
  },
  {
   "cell_type": "markdown",
   "metadata": {},
   "source": [
    "### Get Detections"
   ]
  },
  {
   "cell_type": "code",
   "execution_count": 2,
   "metadata": {},
   "outputs": [
    {
     "name": "stdout",
     "output_type": "stream",
     "text": [
      "Real: 5119, Fake: 22095\n"
     ]
    },
    {
     "data": {
      "image/png": "[encoded data removed]",
      "text/plain": [
       "<Figure size 432x288 with 1 Axes>"
      ]
     },
     "metadata": {
      "needs_background": "light"
     },
     "output_type": "display_data"
    }
   ],
   "source": [
    "# Open dataframe and set filename as index\n",
    "df = pd.read_pickle('master_dataframe_updated.pkl')\n",
    "df.set_index('file', inplace=True)\n",
    "\n",
    "# Get list of all numpy files with faces detected\n",
    "npy = list(Path('/media/mc/2TBNVMESSD/train_bboxes/').glob('*.npy'))\n",
    "\n",
    "# Get list of real and fake numpy files\n",
    "names = [i.with_suffix('.mp4').name for i in npy]\n",
    "real = []\n",
    "fake = []\n",
    "for name in names:\n",
    "    label = df.loc[name, 'label']\n",
    "    if label == 'REAL': real.append(name)\n",
    "    elif label == 'FAKE': fake.append(name)\n",
    "    else: print('Unknown label: {}')\n",
    "print(f'Real: {len(real)}, Fake: {len(fake)}')\n",
    "\n",
    "# Make dataframe of npy info\n",
    "npy_df = pd.DataFrame(list(zip(names, npy)), columns=['file', 'npy_file'])\n",
    "npy_df.set_index('file', inplace=True)\n",
    "for name in names:\n",
    "    npy_df.loc[name, 'label'] = df.loc[name, 'label']\n",
    "    data = np.load(npy_df.loc[name, 'npy_file'], allow_pickle=True)\n",
    "    npy_df.loc[name, 'num_dets'] = np.array([i.shape[0] for i in data]).mean()\n",
    "\n",
    "# Make dataframe organizing processed files\n",
    "proc_df = pd.DataFrame(list(zip(real, [[] for i in real])), columns=['real', 'fakes'])\n",
    "proc_df.set_index('real', inplace=True)\n",
    "for name in fake:\n",
    "    original = df.loc[name, 'original']\n",
    "    if original in proc_df.index:\n",
    "        proc_df.loc[original, 'fakes'].append(name)\n",
    "\n",
    "# Plot histogram of fakes per real\n",
    "num = [len(proc_df.iloc[i, 0]) for i in range(len(proc_df))]\n",
    "plt.hist(num);"
   ]
  },
  {
   "cell_type": "code",
   "execution_count": 22,
   "metadata": {},
   "outputs": [
    {
     "name": "stdout",
     "output_type": "stream",
     "text": [
      "647\n"
     ]
    }
   ],
   "source": [
    "# Get real videos with more than one detection\n",
    "files = npy_df[(npy_df['num_dets'] > 1.0) & (npy_df['label'] == 'REAL')].index\n",
    "print(len(files))"
   ]
  },
  {
   "cell_type": "code",
   "execution_count": 3,
   "metadata": {},
   "outputs": [
    {
     "name": "stdout",
     "output_type": "stream",
     "text": [
      "Loading pretrained model from /home/mc/dev/Retinaface/Retinaface/weights/mobilenet0.25_Final.pth\n",
      "remove prefix 'module.'\n",
      "Missing keys:0\n",
      "Unused checkpoint keys:0\n",
      "Used keys:300\n",
      "Finished loading model\n"
     ]
    }
   ],
   "source": [
    "torch.set_grad_enabled(False)\n",
    "model = get_model()\n",
    "model.eval()\n",
    "print(\"Finished loading model\")\n",
    "cudnn.benchmark = True\n",
    "device = torch.device(\"cuda\")\n",
    "model = model.to(device)"
   ]
  },
  {
   "cell_type": "code",
   "execution_count": 4,
   "metadata": {},
   "outputs": [],
   "source": [
    "def get_frames(file, max_frames=None, max_dim=512):\n",
    "    cap = cv2.VideoCapture(file)\n",
    "    width = cap.get(cv2.CAP_PROP_FRAME_WIDTH)\n",
    "    height = cap.get(cv2.CAP_PROP_FRAME_HEIGHT)\n",
    "    num_frames = int(cap.get(cv2.CAP_PROP_FRAME_COUNT))\n",
    "    if max_frames is None: total_frames = num_frames\n",
    "    elif max_frames > num_frames: total_frames = num_frames\n",
    "    else: total_frames = max_frames\n",
    "    resize = 1\n",
    "    if max_dim is not None:\n",
    "        max_img = max(width, height)\n",
    "        if max_img > max_dim:\n",
    "            resize = max_dim / max_img\n",
    "    frames = []\n",
    "    imgs = []\n",
    "    for i in range(total_frames):\n",
    "        ret, frame = cap.read()\n",
    "        img = cv2.cvtColor(frame, cv2.COLOR_BGR2RGB)\n",
    "        frames.append(frame)\n",
    "        if resize != 1:\n",
    "            imgs.append(cv2.resize(img, None, None, fx=resize, fy=resize, interpolation=cv2.INTER_AREA))\n",
    "    return np.stack(frames).astype(np.float32), np.stack(imgs).astype(np.float32), resize\n",
    "\n",
    "def preprocess_imgs(imgs):\n",
    "    imgs -= (104, 117, 123)\n",
    "    imgs = imgs.transpose(0, 3, 1, 2)\n",
    "    imgs = torch.from_numpy(imgs)\n",
    "    return imgs\n",
    "\n",
    "def detect_imgs(imgs, model, cfg, resize, conf_thresh=0.5, nms_threshold=0.4):\n",
    "    scale = torch.Tensor([imgs.shape[3], imgs.shape[2], imgs.shape[3], imgs.shape[2]])\n",
    "    imgs = imgs.to(device)\n",
    "    scale = scale.to(device)\n",
    "    all_loc, all_conf, all_landms = model(imgs)\n",
    "\n",
    "    priorbox = PriorBox(cfg, image_size=(imgs.shape[2:4]))\n",
    "    priors = priorbox.forward()\n",
    "    priors = priors.to(device)\n",
    "    prior_data = priors.data\n",
    "\n",
    "    all_dets = []\n",
    "    for loc, conf, landms in zip(all_loc, all_conf, all_landms):\n",
    "\n",
    "        boxes = decode(loc.data.squeeze(0), prior_data, cfg['variance'])\n",
    "        boxes = boxes * scale / resize\n",
    "        boxes = boxes.cpu().numpy()\n",
    "        scores = conf.squeeze(0).data.cpu().numpy()[:, 1]\n",
    "        landms = decode_landm(landms.data.squeeze(0), prior_data, cfg['variance'])\n",
    "        scale1 = torch.Tensor([imgs.shape[3], imgs.shape[2], imgs.shape[3], imgs.shape[2],\n",
    "                               imgs.shape[3], imgs.shape[2], imgs.shape[3], imgs.shape[2],\n",
    "                               imgs.shape[3], imgs.shape[2]])\n",
    "        scale1 = scale1.to(device)\n",
    "        landms = landms * scale1 / resize\n",
    "        landms = landms.cpu().numpy()\n",
    "\n",
    "        # Ignore low scores\n",
    "        inds = np.where(scores > conf_thresh)[0]\n",
    "        boxes = boxes[inds]\n",
    "        landms = landms[inds]\n",
    "        scores = scores[inds]\n",
    "\n",
    "        # Keep top-K before NMS\n",
    "        order = scores.argsort()[::-1]\n",
    "        boxes = boxes[order]\n",
    "        landms = landms[order]\n",
    "        scores = scores[order]\n",
    "\n",
    "        # NMS\n",
    "        dets = np.hstack((boxes, scores[:, np.newaxis])).astype(np.float32, copy=False)\n",
    "        keep = py_cpu_nms(dets, nms_threshold)\n",
    "        dets = dets[keep, :]\n",
    "        landms = landms[keep]\n",
    "        dets = np.concatenate((dets, landms), axis=1)\n",
    "\n",
    "        all_dets.append(dets)\n",
    "\n",
    "    return all_dets\n",
    "\n",
    "def annotate_img(img, dets):\n",
    "    ann_img = img.copy()\n",
    "    for det in dets:\n",
    "        # bbox\n",
    "        cv2.rectangle(ann_img, (det[0], det[1]), (det[2], det[3]), (0, 0, 255), 5)\n",
    "        # landms\n",
    "        cv2.circle(ann_img, (det[5], det[6]), 5, (255, 255, 0), 5)\n",
    "        cv2.circle(ann_img, (det[7], det[8]), 5, (0, 255, 255), 5)\n",
    "        cv2.circle(ann_img, (det[9], det[10]), 5, (255, 0, 255), 5)\n",
    "        cv2.circle(ann_img, (det[11], det[12]), 5, (0, 255, 0), 5)\n",
    "        cv2.circle(ann_img, (det[13], det[14]), 5, (255, 0, 0), 5)\n",
    "    return ann_img\n",
    "\n",
    "def annotate_imgs(imgs, dets):\n",
    "    ann_imgs = []\n",
    "    for img, det in zip(imgs, dets):\n",
    "        ann_imgs.append(annotate_img(img, det))\n",
    "    return np.stack(ann_imgs)\n",
    "\n",
    "def imgs2mp4(imgs, out_file):\n",
    "    width, height = imgs.shape[2], imgs.shape[1]\n",
    "    fourcc = cv2.VideoWriter_fourcc(*'mp4v')\n",
    "    out = cv2.VideoWriter(out_file, fourcc, 30, (width, height))\n",
    "    for img in imgs:\n",
    "        out.write(img)\n",
    "    out.release()"
   ]
  },
  {
   "cell_type": "code",
   "execution_count": 5,
   "metadata": {},
   "outputs": [
    {
     "name": "stdout",
     "output_type": "stream",
     "text": [
      "/home/mc/dev/dfdc_train/dfdc_train_part_25/aadqbokerz.mp4\n"
     ]
    }
   ],
   "source": [
    "in_file = 'aadqbokerz.mp4'\n",
    "in_path = df.loc[in_file].filepath\n",
    "print(in_path)"
   ]
  },
  {
   "cell_type": "code",
   "execution_count": 7,
   "metadata": {},
   "outputs": [
    {
     "name": "stdout",
     "output_type": "stream",
     "text": [
      "Time for getting video frames: 1.08s\n",
      "Time frames preprocessing: 0.12s\n",
      "Time for model inference: 0.41s\n",
      "Total time: 1.61s\n"
     ]
    }
   ],
   "source": [
    "total_start = time.time()\n",
    "\n",
    "start = time.time()\n",
    "frames, imgs, resize = get_frames(in_path, max_frames=75, max_dim=512)\n",
    "elapsed = time.time() - start\n",
    "print(f'Time for getting video frames: {elapsed:.2f}s')\n",
    "\n",
    "start = time.time()\n",
    "imgs = preprocess_imgs(imgs)\n",
    "elapsed = time.time() - start\n",
    "print(f'Time frames preprocessing: {elapsed:.2f}s')\n",
    "\n",
    "start = time.time()\n",
    "dets = detect_imgs(imgs, model, cfg_mnet, resize, conf_thresh=0.5, nms_threshold=0.4)\n",
    "elapsed = time.time() - start\n",
    "print(f'Time for model inference: {elapsed:.2f}s')\n",
    "\n",
    "total_elapsed = time.time() - total_start\n",
    "print(f'Total time: {total_elapsed:.2f}s')"
   ]
  },
  {
   "cell_type": "code",
   "execution_count": 206,
   "metadata": {},
   "outputs": [],
   "source": [
    "out_dir = '/media/mc/2TBNVMESSD/retinaface_dets/'\n",
    "for in_path in df.filepath.to_numpy()[:10]:\n",
    "    out_path = str(Path(out_dir) / Path(in_path).stem) + '.npy'\n",
    "    if os.path.exists(out_path): continue\n",
    "    frames, imgs, resize = get_frames(in_path, max_frames=75, max_dim=512)\n",
    "    imgs = preprocess_imgs(imgs)\n",
    "    dets = detect_imgs(imgs, model, cfg_mnet, resize, conf_thresh=0.5, nms_threshold=0.4)\n",
    "    np.save(out_path, dets, allow_pickle=True)"
   ]
  },
  {
   "cell_type": "code",
   "execution_count": 8,
   "metadata": {},
   "outputs": [],
   "source": [
    "dets = np.load('/media/mc/2TBNVMESSD/retinaface_dets/aadqbokerz.npy')"
   ]
  },
  {
   "cell_type": "code",
   "execution_count": 9,
   "metadata": {},
   "outputs": [],
   "source": [
    "ann_clip = annotate_imgs(frames, dets)"
   ]
  },
  {
   "cell_type": "code",
   "execution_count": 10,
   "metadata": {},
   "outputs": [],
   "source": [
    "imgs2mp4(ann_clip.astype(np.uint8), '/home/mc/Desktop/test.mp4')"
   ]
  },
  {
   "cell_type": "code",
   "execution_count": 207,
   "metadata": {},
   "outputs": [],
   "source": [
    "det = np.load(out_path)"
   ]
  },
  {
   "cell_type": "code",
   "execution_count": null,
   "metadata": {},
   "outputs": [],
   "source": []
  }
 ],
 "metadata": {
  "kernelspec": {
   "display_name": "Python 3",
   "language": "python",
   "name": "python3"
  },
  "language_info": {
   "codemirror_mode": {
    "name": "ipython",
    "version": 3
   },
   "file_extension": ".py",
   "mimetype": "text/x-python",
   "name": "python",
   "nbconvert_exporter": "python",
   "pygments_lexer": "ipython3",
   "version": "3.7.4"
  }
 },
 "nbformat": 4,
 "nbformat_minor": 4
}
