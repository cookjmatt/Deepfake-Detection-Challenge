{
 "cells": [
  {
   "cell_type": "code",
   "execution_count": 2,
   "metadata": {},
   "outputs": [],
   "source": [
    "import time\n",
    "from pathlib import Path\n",
    "import numpy as np\n",
    "import pandas as pd\n",
    "import cv2\n",
    "import matplotlib.pyplot as plt"
   ]
  },
  {
   "cell_type": "markdown",
   "metadata": {},
   "source": [
    "### Load dataframe"
   ]
  },
  {
   "cell_type": "code",
   "execution_count": 50,
   "metadata": {},
   "outputs": [
    {
     "ename": "EOFError",
     "evalue": "",
     "output_type": "error",
     "traceback": [
      "\u001b[0;31m---------------------------------------------------------------------------\u001b[0m",
      "\u001b[0;31mEOFError\u001b[0m                                  Traceback (most recent call last)",
      "\u001b[0;32m~/env/Python3/lib/python3.7/site-packages/pandas/io/pickle.py\u001b[0m in \u001b[0;36mread_pickle\u001b[0;34m(path, compression)\u001b[0m\n\u001b[1;32m    154\u001b[0m             \u001b[0mwarnings\u001b[0m\u001b[0;34m.\u001b[0m\u001b[0msimplefilter\u001b[0m\u001b[0;34m(\u001b[0m\u001b[0;34m\"ignore\"\u001b[0m\u001b[0;34m,\u001b[0m \u001b[0mWarning\u001b[0m\u001b[0;34m)\u001b[0m\u001b[0;34m\u001b[0m\u001b[0;34m\u001b[0m\u001b[0m\n\u001b[0;32m--> 155\u001b[0;31m             \u001b[0;32mreturn\u001b[0m \u001b[0mpickle\u001b[0m\u001b[0;34m.\u001b[0m\u001b[0mload\u001b[0m\u001b[0;34m(\u001b[0m\u001b[0mf\u001b[0m\u001b[0;34m)\u001b[0m\u001b[0;34m\u001b[0m\u001b[0;34m\u001b[0m\u001b[0m\n\u001b[0m\u001b[1;32m    156\u001b[0m     \u001b[0;32mexcept\u001b[0m \u001b[0mException\u001b[0m\u001b[0;34m:\u001b[0m  \u001b[0;31m# noqa: E722\u001b[0m\u001b[0;34m\u001b[0m\u001b[0;34m\u001b[0m\u001b[0m\n",
      "\u001b[0;31mEOFError\u001b[0m: Ran out of input",
      "\nDuring handling of the above exception, another exception occurred:\n",
      "\u001b[0;31mEOFError\u001b[0m                                  Traceback (most recent call last)",
      "\u001b[0;32m~/env/Python3/lib/python3.7/site-packages/pandas/io/pickle.py\u001b[0m in \u001b[0;36mread_pickle\u001b[0;34m(path, compression)\u001b[0m\n\u001b[1;32m    157\u001b[0m         \u001b[0;32mtry\u001b[0m\u001b[0;34m:\u001b[0m\u001b[0;34m\u001b[0m\u001b[0;34m\u001b[0m\u001b[0m\n\u001b[0;32m--> 158\u001b[0;31m             \u001b[0;32mreturn\u001b[0m \u001b[0mpc\u001b[0m\u001b[0;34m.\u001b[0m\u001b[0mload\u001b[0m\u001b[0;34m(\u001b[0m\u001b[0mf\u001b[0m\u001b[0;34m,\u001b[0m \u001b[0mencoding\u001b[0m\u001b[0;34m=\u001b[0m\u001b[0;32mNone\u001b[0m\u001b[0;34m)\u001b[0m\u001b[0;34m\u001b[0m\u001b[0;34m\u001b[0m\u001b[0m\n\u001b[0m\u001b[1;32m    159\u001b[0m         \u001b[0;32mexcept\u001b[0m \u001b[0mException\u001b[0m\u001b[0;34m:\u001b[0m  \u001b[0;31m# noqa: E722\u001b[0m\u001b[0;34m\u001b[0m\u001b[0;34m\u001b[0m\u001b[0m\n",
      "\u001b[0;32m~/env/Python3/lib/python3.7/site-packages/pandas/compat/pickle_compat.py\u001b[0m in \u001b[0;36mload\u001b[0;34m(fh, encoding, is_verbose)\u001b[0m\n\u001b[1;32m    218\u001b[0m \u001b[0;34m\u001b[0m\u001b[0m\n\u001b[0;32m--> 219\u001b[0;31m         \u001b[0;32mreturn\u001b[0m \u001b[0mup\u001b[0m\u001b[0;34m.\u001b[0m\u001b[0mload\u001b[0m\u001b[0;34m(\u001b[0m\u001b[0;34m)\u001b[0m\u001b[0;34m\u001b[0m\u001b[0;34m\u001b[0m\u001b[0m\n\u001b[0m\u001b[1;32m    220\u001b[0m     \u001b[0;32mexcept\u001b[0m \u001b[0;34m(\u001b[0m\u001b[0mValueError\u001b[0m\u001b[0;34m,\u001b[0m \u001b[0mTypeError\u001b[0m\u001b[0;34m)\u001b[0m\u001b[0;34m:\u001b[0m\u001b[0;34m\u001b[0m\u001b[0;34m\u001b[0m\u001b[0m\n",
      "\u001b[0;32m/usr/local/lib/python3.7/pickle.py\u001b[0m in \u001b[0;36mload\u001b[0;34m(self)\u001b[0m\n\u001b[1;32m   1085\u001b[0m                 \u001b[0;32mif\u001b[0m \u001b[0;32mnot\u001b[0m \u001b[0mkey\u001b[0m\u001b[0;34m:\u001b[0m\u001b[0;34m\u001b[0m\u001b[0;34m\u001b[0m\u001b[0m\n\u001b[0;32m-> 1086\u001b[0;31m                     \u001b[0;32mraise\u001b[0m \u001b[0mEOFError\u001b[0m\u001b[0;34m\u001b[0m\u001b[0;34m\u001b[0m\u001b[0m\n\u001b[0m\u001b[1;32m   1087\u001b[0m                 \u001b[0;32massert\u001b[0m \u001b[0misinstance\u001b[0m\u001b[0;34m(\u001b[0m\u001b[0mkey\u001b[0m\u001b[0;34m,\u001b[0m \u001b[0mbytes_types\u001b[0m\u001b[0;34m)\u001b[0m\u001b[0;34m\u001b[0m\u001b[0;34m\u001b[0m\u001b[0m\n",
      "\u001b[0;31mEOFError\u001b[0m: ",
      "\nDuring handling of the above exception, another exception occurred:\n",
      "\u001b[0;31mEOFError\u001b[0m                                  Traceback (most recent call last)",
      "\u001b[0;32m<ipython-input-50-077c13876532>\u001b[0m in \u001b[0;36m<module>\u001b[0;34m\u001b[0m\n\u001b[0;32m----> 1\u001b[0;31m \u001b[0mdf\u001b[0m \u001b[0;34m=\u001b[0m \u001b[0mpd\u001b[0m\u001b[0;34m.\u001b[0m\u001b[0mread_pickle\u001b[0m\u001b[0;34m(\u001b[0m\u001b[0;34m'/home/mc/dev/Deepfake-Detection-Challenge/notebooks/master_dataframe_updated.pkl'\u001b[0m\u001b[0;34m)\u001b[0m\u001b[0;34m\u001b[0m\u001b[0;34m\u001b[0m\u001b[0m\n\u001b[0m",
      "\u001b[0;32m~/env/Python3/lib/python3.7/site-packages/pandas/io/pickle.py\u001b[0m in \u001b[0;36mread_pickle\u001b[0;34m(path, compression)\u001b[0m\n\u001b[1;32m    158\u001b[0m             \u001b[0;32mreturn\u001b[0m \u001b[0mpc\u001b[0m\u001b[0;34m.\u001b[0m\u001b[0mload\u001b[0m\u001b[0;34m(\u001b[0m\u001b[0mf\u001b[0m\u001b[0;34m,\u001b[0m \u001b[0mencoding\u001b[0m\u001b[0;34m=\u001b[0m\u001b[0;32mNone\u001b[0m\u001b[0;34m)\u001b[0m\u001b[0;34m\u001b[0m\u001b[0;34m\u001b[0m\u001b[0m\n\u001b[1;32m    159\u001b[0m         \u001b[0;32mexcept\u001b[0m \u001b[0mException\u001b[0m\u001b[0;34m:\u001b[0m  \u001b[0;31m# noqa: E722\u001b[0m\u001b[0;34m\u001b[0m\u001b[0;34m\u001b[0m\u001b[0m\n\u001b[0;32m--> 160\u001b[0;31m             \u001b[0;32mreturn\u001b[0m \u001b[0mpc\u001b[0m\u001b[0;34m.\u001b[0m\u001b[0mload\u001b[0m\u001b[0;34m(\u001b[0m\u001b[0mf\u001b[0m\u001b[0;34m,\u001b[0m \u001b[0mencoding\u001b[0m\u001b[0;34m=\u001b[0m\u001b[0;34m\"latin1\"\u001b[0m\u001b[0;34m)\u001b[0m\u001b[0;34m\u001b[0m\u001b[0;34m\u001b[0m\u001b[0m\n\u001b[0m\u001b[1;32m    161\u001b[0m     \u001b[0;32mfinally\u001b[0m\u001b[0;34m:\u001b[0m\u001b[0;34m\u001b[0m\u001b[0;34m\u001b[0m\u001b[0m\n\u001b[1;32m    162\u001b[0m         \u001b[0mf\u001b[0m\u001b[0;34m.\u001b[0m\u001b[0mclose\u001b[0m\u001b[0;34m(\u001b[0m\u001b[0;34m)\u001b[0m\u001b[0;34m\u001b[0m\u001b[0;34m\u001b[0m\u001b[0m\n",
      "\u001b[0;32m~/env/Python3/lib/python3.7/site-packages/pandas/compat/pickle_compat.py\u001b[0m in \u001b[0;36mload\u001b[0;34m(fh, encoding, is_verbose)\u001b[0m\n\u001b[1;32m    217\u001b[0m         \u001b[0mup\u001b[0m\u001b[0;34m.\u001b[0m\u001b[0mis_verbose\u001b[0m \u001b[0;34m=\u001b[0m \u001b[0mis_verbose\u001b[0m\u001b[0;34m\u001b[0m\u001b[0;34m\u001b[0m\u001b[0m\n\u001b[1;32m    218\u001b[0m \u001b[0;34m\u001b[0m\u001b[0m\n\u001b[0;32m--> 219\u001b[0;31m         \u001b[0;32mreturn\u001b[0m \u001b[0mup\u001b[0m\u001b[0;34m.\u001b[0m\u001b[0mload\u001b[0m\u001b[0;34m(\u001b[0m\u001b[0;34m)\u001b[0m\u001b[0;34m\u001b[0m\u001b[0;34m\u001b[0m\u001b[0m\n\u001b[0m\u001b[1;32m    220\u001b[0m     \u001b[0;32mexcept\u001b[0m \u001b[0;34m(\u001b[0m\u001b[0mValueError\u001b[0m\u001b[0;34m,\u001b[0m \u001b[0mTypeError\u001b[0m\u001b[0;34m)\u001b[0m\u001b[0;34m:\u001b[0m\u001b[0;34m\u001b[0m\u001b[0;34m\u001b[0m\u001b[0m\n\u001b[1;32m    221\u001b[0m         \u001b[0;32mraise\u001b[0m\u001b[0;34m\u001b[0m\u001b[0;34m\u001b[0m\u001b[0m\n",
      "\u001b[0;32m/usr/local/lib/python3.7/pickle.py\u001b[0m in \u001b[0;36mload\u001b[0;34m(self)\u001b[0m\n\u001b[1;32m   1084\u001b[0m                 \u001b[0mkey\u001b[0m \u001b[0;34m=\u001b[0m \u001b[0mread\u001b[0m\u001b[0;34m(\u001b[0m\u001b[0;36m1\u001b[0m\u001b[0;34m)\u001b[0m\u001b[0;34m\u001b[0m\u001b[0;34m\u001b[0m\u001b[0m\n\u001b[1;32m   1085\u001b[0m                 \u001b[0;32mif\u001b[0m \u001b[0;32mnot\u001b[0m \u001b[0mkey\u001b[0m\u001b[0;34m:\u001b[0m\u001b[0;34m\u001b[0m\u001b[0;34m\u001b[0m\u001b[0m\n\u001b[0;32m-> 1086\u001b[0;31m                     \u001b[0;32mraise\u001b[0m \u001b[0mEOFError\u001b[0m\u001b[0;34m\u001b[0m\u001b[0;34m\u001b[0m\u001b[0m\n\u001b[0m\u001b[1;32m   1087\u001b[0m                 \u001b[0;32massert\u001b[0m \u001b[0misinstance\u001b[0m\u001b[0;34m(\u001b[0m\u001b[0mkey\u001b[0m\u001b[0;34m,\u001b[0m \u001b[0mbytes_types\u001b[0m\u001b[0;34m)\u001b[0m\u001b[0;34m\u001b[0m\u001b[0;34m\u001b[0m\u001b[0m\n\u001b[1;32m   1088\u001b[0m                 \u001b[0mdispatch\u001b[0m\u001b[0;34m[\u001b[0m\u001b[0mkey\u001b[0m\u001b[0;34m[\u001b[0m\u001b[0;36m0\u001b[0m\u001b[0;34m]\u001b[0m\u001b[0;34m]\u001b[0m\u001b[0;34m(\u001b[0m\u001b[0mself\u001b[0m\u001b[0;34m)\u001b[0m\u001b[0;34m\u001b[0m\u001b[0;34m\u001b[0m\u001b[0m\n",
      "\u001b[0;31mEOFError\u001b[0m: "
     ]
    }
   ],
   "source": [
    "df = pd.read_pickle('/home/mc/dev/Deepfake-Detection-Challenge/notebooks/master_dataframe_updated.pkl')"
   ]
  },
  {
   "cell_type": "code",
   "execution_count": 47,
   "metadata": {},
   "outputs": [
    {
     "data": {
      "text/html": [
       "<div>\n",
       "<style scoped>\n",
       "    .dataframe tbody tr th:only-of-type {\n",
       "        vertical-align: middle;\n",
       "    }\n",
       "\n",
       "    .dataframe tbody tr th {\n",
       "        vertical-align: top;\n",
       "    }\n",
       "\n",
       "    .dataframe thead th {\n",
       "        text-align: right;\n",
       "    }\n",
       "</style>\n",
       "<table border=\"1\" class=\"dataframe\">\n",
       "  <thead>\n",
       "    <tr style=\"text-align: right;\">\n",
       "      <th></th>\n",
       "      <th>file</th>\n",
       "      <th>label</th>\n",
       "      <th>original</th>\n",
       "      <th>split</th>\n",
       "      <th>filepath</th>\n",
       "      <th>fakes</th>\n",
       "      <th>orig_width</th>\n",
       "      <th>orig_height</th>\n",
       "      <th>new_width</th>\n",
       "      <th>new_height</th>\n",
       "      <th>fps</th>\n",
       "      <th>num_frames</th>\n",
       "      <th>idxs</th>\n",
       "    </tr>\n",
       "  </thead>\n",
       "  <tbody>\n",
       "    <tr>\n",
       "      <th>0</th>\n",
       "      <td>aadqbokerz.mp4</td>\n",
       "      <td>FAKE</td>\n",
       "      <td>uqxeoibzvv.mp4</td>\n",
       "      <td>train</td>\n",
       "      <td>/home/mc/dev/dfdc_train/dfdc_train_part_25/aad...</td>\n",
       "      <td>NaN</td>\n",
       "      <td>1920.0</td>\n",
       "      <td>1080.0</td>\n",
       "      <td>1920.0</td>\n",
       "      <td>1080.0</td>\n",
       "      <td>29.9700</td>\n",
       "      <td>300.0</td>\n",
       "      <td>[  0 149 299]</td>\n",
       "    </tr>\n",
       "    <tr>\n",
       "      <th>1</th>\n",
       "      <td>abingyvkus.mp4</td>\n",
       "      <td>FAKE</td>\n",
       "      <td>ejnleiwyex.mp4</td>\n",
       "      <td>train</td>\n",
       "      <td>/home/mc/dev/dfdc_train/dfdc_train_part_25/abi...</td>\n",
       "      <td>NaN</td>\n",
       "      <td>1920.0</td>\n",
       "      <td>1080.0</td>\n",
       "      <td>1920.0</td>\n",
       "      <td>1080.0</td>\n",
       "      <td>29.7787</td>\n",
       "      <td>298.0</td>\n",
       "      <td>[  0 148 297]</td>\n",
       "    </tr>\n",
       "    <tr>\n",
       "      <th>2</th>\n",
       "      <td>abmnkljiny.mp4</td>\n",
       "      <td>FAKE</td>\n",
       "      <td>mcmztvtjaz.mp4</td>\n",
       "      <td>train</td>\n",
       "      <td>/home/mc/dev/dfdc_train/dfdc_train_part_25/abm...</td>\n",
       "      <td>NaN</td>\n",
       "      <td>1920.0</td>\n",
       "      <td>1080.0</td>\n",
       "      <td>1920.0</td>\n",
       "      <td>1080.0</td>\n",
       "      <td>29.9700</td>\n",
       "      <td>300.0</td>\n",
       "      <td>[  0 149 299]</td>\n",
       "    </tr>\n",
       "    <tr>\n",
       "      <th>3</th>\n",
       "      <td>abpynckiti.mp4</td>\n",
       "      <td>FAKE</td>\n",
       "      <td>esjrjzrfeg.mp4</td>\n",
       "      <td>train</td>\n",
       "      <td>/home/mc/dev/dfdc_train/dfdc_train_part_25/abp...</td>\n",
       "      <td>NaN</td>\n",
       "      <td>1920.0</td>\n",
       "      <td>1080.0</td>\n",
       "      <td>1920.0</td>\n",
       "      <td>1080.0</td>\n",
       "      <td>29.9700</td>\n",
       "      <td>300.0</td>\n",
       "      <td>[  0 149 299]</td>\n",
       "    </tr>\n",
       "    <tr>\n",
       "      <th>4</th>\n",
       "      <td>abroglvegl.mp4</td>\n",
       "      <td>FAKE</td>\n",
       "      <td>kgafyxvlhz.mp4</td>\n",
       "      <td>train</td>\n",
       "      <td>/home/mc/dev/dfdc_train/dfdc_train_part_25/abr...</td>\n",
       "      <td>NaN</td>\n",
       "      <td>1080.0</td>\n",
       "      <td>1920.0</td>\n",
       "      <td>1080.0</td>\n",
       "      <td>1920.0</td>\n",
       "      <td>29.7883</td>\n",
       "      <td>298.0</td>\n",
       "      <td>[  0 148 297]</td>\n",
       "    </tr>\n",
       "    <tr>\n",
       "      <th>...</th>\n",
       "      <td>...</td>\n",
       "      <td>...</td>\n",
       "      <td>...</td>\n",
       "      <td>...</td>\n",
       "      <td>...</td>\n",
       "      <td>...</td>\n",
       "      <td>...</td>\n",
       "      <td>...</td>\n",
       "      <td>...</td>\n",
       "      <td>...</td>\n",
       "      <td>...</td>\n",
       "      <td>...</td>\n",
       "      <td>...</td>\n",
       "    </tr>\n",
       "    <tr>\n",
       "      <th>119149</th>\n",
       "      <td>zylgvbqkte.mp4</td>\n",
       "      <td>FAKE</td>\n",
       "      <td>gvycszbsqv.mp4</td>\n",
       "      <td>train</td>\n",
       "      <td>/home/mc/dev/dfdc_train/dfdc_train_part_5/zylg...</td>\n",
       "      <td>NaN</td>\n",
       "      <td>NaN</td>\n",
       "      <td>NaN</td>\n",
       "      <td>NaN</td>\n",
       "      <td>NaN</td>\n",
       "      <td>NaN</td>\n",
       "      <td>NaN</td>\n",
       "      <td>NaN</td>\n",
       "    </tr>\n",
       "    <tr>\n",
       "      <th>119150</th>\n",
       "      <td>zyndcjxfwf.mp4</td>\n",
       "      <td>FAKE</td>\n",
       "      <td>ttxuegkaew.mp4</td>\n",
       "      <td>train</td>\n",
       "      <td>/home/mc/dev/dfdc_train/dfdc_train_part_5/zynd...</td>\n",
       "      <td>NaN</td>\n",
       "      <td>NaN</td>\n",
       "      <td>NaN</td>\n",
       "      <td>NaN</td>\n",
       "      <td>NaN</td>\n",
       "      <td>NaN</td>\n",
       "      <td>NaN</td>\n",
       "      <td>NaN</td>\n",
       "    </tr>\n",
       "    <tr>\n",
       "      <th>119151</th>\n",
       "      <td>zywnhhdcku.mp4</td>\n",
       "      <td>FAKE</td>\n",
       "      <td>lhglvsajka.mp4</td>\n",
       "      <td>train</td>\n",
       "      <td>/home/mc/dev/dfdc_train/dfdc_train_part_5/zywn...</td>\n",
       "      <td>NaN</td>\n",
       "      <td>NaN</td>\n",
       "      <td>NaN</td>\n",
       "      <td>NaN</td>\n",
       "      <td>NaN</td>\n",
       "      <td>NaN</td>\n",
       "      <td>NaN</td>\n",
       "      <td>NaN</td>\n",
       "    </tr>\n",
       "    <tr>\n",
       "      <th>119152</th>\n",
       "      <td>zzafzthowz.mp4</td>\n",
       "      <td>FAKE</td>\n",
       "      <td>osnuxyotnv.mp4</td>\n",
       "      <td>train</td>\n",
       "      <td>/home/mc/dev/dfdc_train/dfdc_train_part_5/zzaf...</td>\n",
       "      <td>NaN</td>\n",
       "      <td>NaN</td>\n",
       "      <td>NaN</td>\n",
       "      <td>NaN</td>\n",
       "      <td>NaN</td>\n",
       "      <td>NaN</td>\n",
       "      <td>NaN</td>\n",
       "      <td>NaN</td>\n",
       "    </tr>\n",
       "    <tr>\n",
       "      <th>119153</th>\n",
       "      <td>zzpyxttgbt.mp4</td>\n",
       "      <td>FAKE</td>\n",
       "      <td>wmdnqpfcey.mp4</td>\n",
       "      <td>train</td>\n",
       "      <td>/home/mc/dev/dfdc_train/dfdc_train_part_5/zzpy...</td>\n",
       "      <td>NaN</td>\n",
       "      <td>NaN</td>\n",
       "      <td>NaN</td>\n",
       "      <td>NaN</td>\n",
       "      <td>NaN</td>\n",
       "      <td>NaN</td>\n",
       "      <td>NaN</td>\n",
       "      <td>NaN</td>\n",
       "    </tr>\n",
       "  </tbody>\n",
       "</table>\n",
       "<p>119154 rows × 13 columns</p>\n",
       "</div>"
      ],
      "text/plain": [
       "                  file label        original  split  \\\n",
       "0       aadqbokerz.mp4  FAKE  uqxeoibzvv.mp4  train   \n",
       "1       abingyvkus.mp4  FAKE  ejnleiwyex.mp4  train   \n",
       "2       abmnkljiny.mp4  FAKE  mcmztvtjaz.mp4  train   \n",
       "3       abpynckiti.mp4  FAKE  esjrjzrfeg.mp4  train   \n",
       "4       abroglvegl.mp4  FAKE  kgafyxvlhz.mp4  train   \n",
       "...                ...   ...             ...    ...   \n",
       "119149  zylgvbqkte.mp4  FAKE  gvycszbsqv.mp4  train   \n",
       "119150  zyndcjxfwf.mp4  FAKE  ttxuegkaew.mp4  train   \n",
       "119151  zywnhhdcku.mp4  FAKE  lhglvsajka.mp4  train   \n",
       "119152  zzafzthowz.mp4  FAKE  osnuxyotnv.mp4  train   \n",
       "119153  zzpyxttgbt.mp4  FAKE  wmdnqpfcey.mp4  train   \n",
       "\n",
       "                                                 filepath fakes  orig_width  \\\n",
       "0       /home/mc/dev/dfdc_train/dfdc_train_part_25/aad...   NaN      1920.0   \n",
       "1       /home/mc/dev/dfdc_train/dfdc_train_part_25/abi...   NaN      1920.0   \n",
       "2       /home/mc/dev/dfdc_train/dfdc_train_part_25/abm...   NaN      1920.0   \n",
       "3       /home/mc/dev/dfdc_train/dfdc_train_part_25/abp...   NaN      1920.0   \n",
       "4       /home/mc/dev/dfdc_train/dfdc_train_part_25/abr...   NaN      1080.0   \n",
       "...                                                   ...   ...         ...   \n",
       "119149  /home/mc/dev/dfdc_train/dfdc_train_part_5/zylg...   NaN         NaN   \n",
       "119150  /home/mc/dev/dfdc_train/dfdc_train_part_5/zynd...   NaN         NaN   \n",
       "119151  /home/mc/dev/dfdc_train/dfdc_train_part_5/zywn...   NaN         NaN   \n",
       "119152  /home/mc/dev/dfdc_train/dfdc_train_part_5/zzaf...   NaN         NaN   \n",
       "119153  /home/mc/dev/dfdc_train/dfdc_train_part_5/zzpy...   NaN         NaN   \n",
       "\n",
       "        orig_height  new_width  new_height      fps  num_frames           idxs  \n",
       "0            1080.0     1920.0      1080.0  29.9700       300.0  [  0 149 299]  \n",
       "1            1080.0     1920.0      1080.0  29.7787       298.0  [  0 148 297]  \n",
       "2            1080.0     1920.0      1080.0  29.9700       300.0  [  0 149 299]  \n",
       "3            1080.0     1920.0      1080.0  29.9700       300.0  [  0 149 299]  \n",
       "4            1920.0     1080.0      1920.0  29.7883       298.0  [  0 148 297]  \n",
       "...             ...        ...         ...      ...         ...            ...  \n",
       "119149          NaN        NaN         NaN      NaN         NaN            NaN  \n",
       "119150          NaN        NaN         NaN      NaN         NaN            NaN  \n",
       "119151          NaN        NaN         NaN      NaN         NaN            NaN  \n",
       "119152          NaN        NaN         NaN      NaN         NaN            NaN  \n",
       "119153          NaN        NaN         NaN      NaN         NaN            NaN  \n",
       "\n",
       "[119154 rows x 13 columns]"
      ]
     },
     "execution_count": 47,
     "metadata": {},
     "output_type": "execute_result"
    }
   ],
   "source": [
    "df"
   ]
  },
  {
   "cell_type": "markdown",
   "metadata": {},
   "source": [
    "### Resize and image while maintaining aspect ratio"
   ]
  },
  {
   "cell_type": "code",
   "execution_count": 4,
   "metadata": {},
   "outputs": [],
   "source": [
    "def image_resize(image, width=None, height=None, inter=cv2.INTER_AREA):\n",
    "    dim = None\n",
    "    (h, w) = image.shape[:2]\n",
    "    if width is None and height is None:\n",
    "        return image\n",
    "    if width is None:\n",
    "        r = height / float(h)\n",
    "        dim = (int(w * r), height)\n",
    "    else:\n",
    "        r = width / float(w)\n",
    "        dim = (width, int(h * r))\n",
    "    resized = cv2.resize(image, dim, interpolation=inter)\n",
    "    return resized"
   ]
  },
  {
   "cell_type": "markdown",
   "metadata": {},
   "source": [
    "### Sample frames from an mp4"
   ]
  },
  {
   "cell_type": "code",
   "execution_count": 7,
   "metadata": {},
   "outputs": [],
   "source": [
    "def sample_from_mp4(p, num_samples=5):\n",
    "    cap = cv2.VideoCapture(p)\n",
    "    width = cap.get(cv2.CAP_PROP_FRAME_WIDTH)\n",
    "    height= cap.get(cv2.CAP_PROP_FRAME_HEIGHT)\n",
    "    fps = cap.get(cv2.CAP_PROP_FPS)\n",
    "    num_frames = int(cap.get(cv2.CAP_PROP_FRAME_COUNT))\n",
    "    idxs = np.linspace(0, num_frames-1, num_samples, dtype=int)\n",
    "    frames = []\n",
    "    for i in range(0, num_frames):\n",
    "        ret = cap.grab()\n",
    "        if i in idxs:\n",
    "            ret, frame = cap.retrieve()\n",
    "            #if width > 512 or height > 512:\n",
    "            #    if width > height: frame = image_resize(frame, width=512)\n",
    "            #    else: frame = image_resize(frame, height=512)\n",
    "            frames.append(frame)\n",
    "    cap.release()\n",
    "    return width, height, fps, num_frames, idxs, np.stack(frames)"
   ]
  },
  {
   "cell_type": "code",
   "execution_count": 24,
   "metadata": {},
   "outputs": [],
   "source": [
    "def resize_to_max(img, max_dim):\n",
    "    h, w = img.shape[:2]\n",
    "    max_img = max(h, w)\n",
    "    if max_img <= max_dim: return img\n",
    "    ratio = max_dim / max_img\n",
    "    dim = (int(w*ratio), int(h*ratio))\n",
    "    return cv2.resize(img, dim, interpolation=cv2.INTER_AREA)"
   ]
  },
  {
   "cell_type": "markdown",
   "metadata": {},
   "source": [
    "### Sample frames and save to disk"
   ]
  },
  {
   "cell_type": "code",
   "execution_count": null,
   "metadata": {
    "collapsed": true,
    "jupyter": {
     "outputs_hidden": true
    }
   },
   "outputs": [
    {
     "name": "stdout",
     "output_type": "stream",
     "text": [
      "1000/119154 Elapsed: 231.4s\n",
      "2000/119154 Elapsed: 233.9s\n",
      "3000/119154 Elapsed: 230.4s\n",
      "4000/119154 Elapsed: 231.3s\n",
      "5000/119154 Elapsed: 231.6s\n",
      "6000/119154 Elapsed: 231.3s\n",
      "7000/119154 Elapsed: 233.1s\n",
      "8000/119154 Elapsed: 226.6s\n",
      "9000/119154 Elapsed: 225.5s\n",
      "10000/119154 Elapsed: 226.0s\n",
      "11000/119154 Elapsed: 241.5s\n",
      "12000/119154 Elapsed: 239.0s\n",
      "13000/119154 Elapsed: 238.9s\n",
      "14000/119154 Elapsed: 240.1s\n",
      "15000/119154 Elapsed: 238.7s\n",
      "16000/119154 Elapsed: 238.8s\n",
      "17000/119154 Elapsed: 239.9s\n",
      "18000/119154 Elapsed: 228.3s\n",
      "19000/119154 Elapsed: 231.1s\n",
      "20000/119154 Elapsed: 233.2s\n",
      "21000/119154 Elapsed: 234.0s\n",
      "22000/119154 Elapsed: 236.5s\n",
      "23000/119154 Elapsed: 240.0s\n",
      "24000/119154 Elapsed: 239.1s\n",
      "25000/119154 Elapsed: 246.1s\n",
      "26000/119154 Elapsed: 244.9s\n",
      "27000/119154 Elapsed: 232.6s\n",
      "28000/119154 Elapsed: 225.9s\n",
      "29000/119154 Elapsed: 223.5s\n",
      "30000/119154 Elapsed: 224.9s\n",
      "31000/119154 Elapsed: 228.8s\n",
      "32000/119154 Elapsed: 232.5s\n",
      "33000/119154 Elapsed: 232.6s\n",
      "34000/119154 Elapsed: 242.1s\n"
     ]
    }
   ],
   "source": [
    "save_dir = '/media/mc/2TBNVMESSD/sampled_frames/'\n",
    "start = time.time()\n",
    "for i in range(len(df)):\n",
    "    if i != 0 and i % 1000 == 0:\n",
    "        elapsed = time.time() - start\n",
    "        start = time.time()\n",
    "        print(f'{i}/{len(df)} Elapsed: {elapsed:.1f}s')\n",
    "    try:\n",
    "        in_path = df.loc[i, 'filepath']\n",
    "        width, height, fps, num_frames, idxs, imgs = sample_from_mp4(in_path)\n",
    "        df.at[i, 'orig_width'] = width\n",
    "        df.at[i, 'orig_height'] = height\n",
    "        df.at[i, 'new_width'] = imgs.shape[2]\n",
    "        df.at[i, 'new_height'] = imgs.shape[1]\n",
    "        df.at[i, 'fps'] = fps\n",
    "        df.at[i, 'num_frames'] = num_frames\n",
    "        df.at[i, 'idxs'] = np.array_str(idxs)\n",
    "        save_path = (Path(save_dir) / Path(in_path).name).as_posix()\n",
    "        np.savez(save_path, img=imgs)\n",
    "    except:\n",
    "        print(f'Error with {in_path}')"
   ]
  },
  {
   "cell_type": "code",
   "execution_count": 35,
   "metadata": {},
   "outputs": [],
   "source": [
    "sampled_frames = Path('/media/mc/2TBNVMESSD/sampled_frames/')\n",
    "files = list(sampled_frames.glob('*.npz'))"
   ]
  },
  {
   "cell_type": "code",
   "execution_count": 36,
   "metadata": {},
   "outputs": [],
   "source": [
    "data = np.load(files[0])"
   ]
  },
  {
   "cell_type": "code",
   "execution_count": 37,
   "metadata": {},
   "outputs": [],
   "source": [
    "imgs = data['img']"
   ]
  },
  {
   "cell_type": "code",
   "execution_count": 38,
   "metadata": {},
   "outputs": [
    {
     "data": {
      "text/plain": [
       "(5, 1920, 1080, 3)"
      ]
     },
     "execution_count": 38,
     "metadata": {},
     "output_type": "execute_result"
    }
   ],
   "source": [
    "imgs.shape"
   ]
  },
  {
   "cell_type": "code",
   "execution_count": 39,
   "metadata": {},
   "outputs": [],
   "source": [
    "def resize_to_max(img, max_dim):\n",
    "    h, w = img.shape[:2]\n",
    "    max_img = max(h, w)\n",
    "    if max_img <= max_dim: return img\n",
    "    ratio = max_dim / max_img\n",
    "    dim = (int(w*ratio), int(h*ratio))\n",
    "    return cv2.resize(img, dim, interpolation=cv2.INTER_AREA)"
   ]
  },
  {
   "cell_type": "code",
   "execution_count": 40,
   "metadata": {},
   "outputs": [],
   "source": [
    "test = resize_to_max(imgs[0], 800)"
   ]
  },
  {
   "cell_type": "code",
   "execution_count": 43,
   "metadata": {},
   "outputs": [
    {
     "data": {
      "text/plain": [
       "PosixPath('/media/mc/2TBNVMESSD/sampled_frames/ahayccwqkh.mp4.npz')"
      ]
     },
     "execution_count": 43,
     "metadata": {},
     "output_type": "execute_result"
    }
   ],
   "source": [
    "files[0]"
   ]
  },
  {
   "cell_type": "code",
   "execution_count": 45,
   "metadata": {},
   "outputs": [
    {
     "ename": "ModuleNotFoundError",
     "evalue": "No module named 'DFDlib'",
     "output_type": "error",
     "traceback": [
      "\u001b[0;31m---------------------------------------------------------------------------\u001b[0m",
      "\u001b[0;31mModuleNotFoundError\u001b[0m                       Traceback (most recent call last)",
      "\u001b[0;32m<ipython-input-45-d3bf23b9dcd6>\u001b[0m in \u001b[0;36m<module>\u001b[0;34m\u001b[0m\n\u001b[0;32m----> 1\u001b[0;31m \u001b[0;32mfrom\u001b[0m \u001b[0mDFDlib\u001b[0m\u001b[0;34m.\u001b[0m\u001b[0mUtils\u001b[0m\u001b[0;34m.\u001b[0m\u001b[0mvideo\u001b[0m \u001b[0;32mimport\u001b[0m \u001b[0mdetect_faces_on_video\u001b[0m\u001b[0;34m\u001b[0m\u001b[0;34m\u001b[0m\u001b[0m\n\u001b[0m",
      "\u001b[0;31mModuleNotFoundError\u001b[0m: No module named 'DFDlib'"
     ]
    }
   ],
   "source": [
    "from DFDlib.Utils.video import detect_faces_on_video"
   ]
  },
  {
   "cell_type": "code",
   "execution_count": 44,
   "metadata": {},
   "outputs": [],
   "source": [
    "in_path = '/home/mc/dev/Deepfake-Detection-Challenge/data/train_sample_videos/aagfhgtpmv.mp4'\n",
    "out_path = '/home/mc/Desktop/ann_aagfhgtpmv.mp4'"
   ]
  },
  {
   "cell_type": "code",
   "execution_count": null,
   "metadata": {},
   "outputs": [],
   "source": [
    "/home/mc/dev/DSFD-Pytorch-Inference/dsfd/weights/"
   ]
  }
 ],
 "metadata": {
  "kernelspec": {
   "display_name": "Python 3",
   "language": "python",
   "name": "python3"
  },
  "language_info": {
   "codemirror_mode": {
    "name": "ipython",
    "version": 3
   },
   "file_extension": ".py",
   "mimetype": "text/x-python",
   "name": "python",
   "nbconvert_exporter": "python",
   "pygments_lexer": "ipython3",
   "version": "3.7.4"
  }
 },
 "nbformat": 4,
 "nbformat_minor": 4
}
