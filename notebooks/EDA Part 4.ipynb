{
 "cells": [
  {
   "cell_type": "code",
   "execution_count": 223,
   "metadata": {},
   "outputs": [],
   "source": [
    "from pathlib import Path\n",
    "import json\n",
    "import numpy as np\n",
    "import pandas as pd\n",
    "import matplotlib.pyplot as plt\n",
    "import cv2\n",
    "\n",
    "np.set_printoptions(suppress=True, linewidth=300)"
   ]
  },
  {
   "cell_type": "code",
   "execution_count": 129,
   "metadata": {},
   "outputs": [
    {
     "name": "stdout",
     "output_type": "stream",
     "text": [
      "Real: 1064, Fake: 4866\n"
     ]
    },
    {
     "data": {
      "image/png": "[encoded data removed]",
      "text/plain": [
       "<Figure size 432x288 with 1 Axes>"
      ]
     },
     "metadata": {
      "needs_background": "light"
     },
     "output_type": "display_data"
    }
   ],
   "source": [
    "# Open dataframe and set filename as index\n",
    "df = pd.read_pickle('master_dataframe_updated.pkl')\n",
    "df.set_index('file', inplace=True)\n",
    "\n",
    "# Get list of all numpy files with faces detected\n",
    "npy = list(Path('/media/mc/2TBNVMESSD/train_bboxes/').glob('*.npy'))\n",
    "\n",
    "# Get list of real and fake numpy files\n",
    "names = [i.with_suffix('.mp4').name for i in npy]\n",
    "real = []\n",
    "fake = []\n",
    "for name in names:\n",
    "    label = df.loc[name, 'label']\n",
    "    if label == 'REAL': real.append(name)\n",
    "    elif label == 'FAKE': fake.append(name)\n",
    "    else: print('Unknown label: {}')\n",
    "print(f'Real: {len(real)}, Fake: {len(fake)}')\n",
    "\n",
    "# Make dataframe of npy info\n",
    "npy_df = pd.DataFrame(list(zip(names, npy)), columns=['file', 'npy_file'])\n",
    "npy_df.set_index('file', inplace=True)\n",
    "for name in names:\n",
    "    npy_df.loc[name, 'label'] = df.loc[name, 'label']\n",
    "    data = np.load(npy_df.loc[name, 'npy_file'], allow_pickle=True)\n",
    "    npy_df.loc[name, 'num_dets'] = np.array([i.shape[0] for i in data]).mean()\n",
    "\n",
    "# Make dataframe organizing processed files\n",
    "proc_df = pd.DataFrame(list(zip(real, [[] for i in real])), columns=['real', 'fakes'])\n",
    "proc_df.set_index('real', inplace=True)\n",
    "for name in fake:\n",
    "    original = df.loc[name, 'original']\n",
    "    if original in proc_df.index:\n",
    "        proc_df.loc[original, 'fakes'].append(name)\\\n",
    "\n",
    "# Plot histogram of fakes per real\n",
    "num = [len(proc_df.iloc[i, 0]) for i in range(len(proc_df))]\n",
    "plt.hist(num);"
   ]
  },
  {
   "cell_type": "markdown",
   "metadata": {},
   "source": [
    "### Test saving a video of detected face"
   ]
  },
  {
   "cell_type": "code",
   "execution_count": 135,
   "metadata": {},
   "outputs": [],
   "source": [
    "# Get real videos with one detection\n",
    "files = npy_df[(npy_df['num_dets'] == 1.0) & (npy_df['label'] == 'REAL')].index"
   ]
  },
  {
   "cell_type": "code",
   "execution_count": 286,
   "metadata": {},
   "outputs": [],
   "source": [
    "file = files[1]\n",
    "out_path = '/home/mc/Desktop/test.mp4'\n",
    "\n",
    "video = df.loc[file, 'filepath']\n",
    "boxes = np.load(npy_df.loc[file, 'npy_file'], allow_pickle=True)\n",
    "boxes = convert_xywh2xyxy(standardize_wh(convert_xyxy2xywh(boxes.squeeze().astype(int)).astype(int)).astype(int)).astype(int)\n",
    "frames = get_det_from_video(video, boxes)\n",
    "save_frames(frames, out_path)\n",
    "#boxes = standardize_boxes(boxes.squeeze(), method='max()').astype(int)"
   ]
  },
  {
   "cell_type": "code",
   "execution_count": 283,
   "metadata": {},
   "outputs": [],
   "source": [
    "def get_det_from_video(video, boxes):\n",
    "    cap = cv2.VideoCapture(video)\n",
    "    num_frames = int(cap.get(cv2.CAP_PROP_FRAME_COUNT))\n",
    "    assert num_frames == len(boxes)\n",
    "    frames = []\n",
    "    for (x1, y1, x2, y2) in boxes:\n",
    "        ret, frame = cap.read()\n",
    "        if frame is None: break\n",
    "        frames.append(frame[y1:y2, x1:x2])\n",
    "    return np.stack(frames)"
   ]
  },
  {
   "cell_type": "code",
   "execution_count": 281,
   "metadata": {},
   "outputs": [],
   "source": [
    "def save_frames(frames, out_path):\n",
    "    fourcc = cv2.VideoWriter_fourcc(*'mp4v')\n",
    "    fps = 30\n",
    "    w = frames.shape[2]\n",
    "    h = frames.shape[1]\n",
    "    out = cv2.VideoWriter(out_path, fourcc, fps, (w, h))\n",
    "    for frame in frames:\n",
    "        out.write(frame)\n",
    "    out.release()"
   ]
  },
  {
   "cell_type": "code",
   "execution_count": 246,
   "metadata": {},
   "outputs": [],
   "source": [
    "def convert_xyxy2xywh(det):\n",
    "    # numpy array with shape (n, 4)\n",
    "    x = (det[:, 0] + det[:, 2]) / 2\n",
    "    y = (det[:, 1] + det[:, 3]) / 2\n",
    "    w = det[:, 2] - det[:, 0]\n",
    "    h = det[:, 3] - det[:, 1]\n",
    "    return np.column_stack((x, y, w, h))\n",
    "\n",
    "def standardize_wh(det, method='max'):\n",
    "    # numpy array with shape (n, 4)\n",
    "    # method is 'max', 'min', 'mean'\n",
    "    if method == 'max':\n",
    "        det[:, 2] = det[:, 2].max()\n",
    "        det[:, 3] = det[:, 3].max()\n",
    "    elif method == 'min':\n",
    "        det[:, 2] = det[:, 2].min()\n",
    "        det[:, 3] = det[:, 3].min()\n",
    "    elif method == 'mean':\n",
    "        det[:, 2] = det[:, 2].mean()\n",
    "        det[:, 3] = det[:, 3].mean()\n",
    "    return det\n",
    "\n",
    "def convert_xywh2xyxy(det):\n",
    "    # numpy array with shape (n, 4)\n",
    "    x1 = det[:, 0] - (det[:, 2] / 2)\n",
    "    x2 = det[:, 0] + (det[:, 2] / 2)\n",
    "    y1 = det[:, 1] - (det[:, 3] / 2)\n",
    "    y2 = det[:, 1] + (det[:, 3] / 2)\n",
    "    return np.column_stack((x1, y1, x2, y2))\n",
    "\n",
    "def standardize_boxes(det, method='max'):\n",
    "    det = convert_xyxy2xywh(det.astype(int))\n",
    "    det = standardize_wh(det.astype(int), method)\n",
    "    det = convert_xywh2xyxy(det.astype(int))\n",
    "    return det"
   ]
  },
  {
   "cell_type": "code",
   "execution_count": null,
   "metadata": {},
   "outputs": [],
   "source": []
  }
 ],
 "metadata": {
  "kernelspec": {
   "display_name": "Python 3",
   "language": "python",
   "name": "python3"
  },
  "language_info": {
   "codemirror_mode": {
    "name": "ipython",
    "version": 3
   },
   "file_extension": ".py",
   "mimetype": "text/x-python",
   "name": "python",
   "nbconvert_exporter": "python",
   "pygments_lexer": "ipython3",
   "version": "3.7.4"
  }
 },
 "nbformat": 4,
 "nbformat_minor": 4
}
