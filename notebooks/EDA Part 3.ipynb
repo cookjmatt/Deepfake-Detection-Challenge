{
 "cells": [
  {
   "cell_type": "code",
   "execution_count": 1,
   "metadata": {},
   "outputs": [],
   "source": [
    "from tqdm import tqdm\n",
    "from pathlib import Path\n",
    "import numpy as np\n",
    "import pandas as pd\n",
    "from dsfd import detect\n",
    "from DFDlib.Utils.video import get_face_bboxes\n",
    "from DFDlib.Utils.logging import create_log, write_log\n",
    "\n",
    "np.set_printoptions(linewidth=300, suppress=True)"
   ]
  },
  {
   "cell_type": "code",
   "execution_count": 118,
   "metadata": {},
   "outputs": [],
   "source": [
    "df = pd.read_pickle('/home/mc/dev/Deepfake-Detection-Challenge/notebooks/master_dataframe_updated.pkl')"
   ]
  },
  {
   "cell_type": "code",
   "execution_count": 119,
   "metadata": {},
   "outputs": [],
   "source": [
    "detector = detect.DSFDDetector(weight_path='/home/mc/dev/DSFD-Pytorch-Inference/dsfd/weights/WIDERFace_DSFD_RES152.pth')"
   ]
  },
  {
   "cell_type": "code",
   "execution_count": 158,
   "metadata": {},
   "outputs": [
    {
     "name": "stderr",
     "output_type": "stream",
     "text": [
      "100%|██████████| 1/1 [00:00<00:00, 2998.07it/s]\n"
     ]
    }
   ],
   "source": [
    "files = [df.loc[105724, 'filepath']]\n",
    "out_dir = '/media/mc/2TBNVMESSD/train_bboxes/'\n",
    "\n",
    "# Create log\n",
    "log_path = create_log('save_face_bboxes')\n",
    "\n",
    "# Loop over file paths\n",
    "for f in tqdm(files):\n",
    "    # Create out path and check if it already exists\n",
    "    out_path = (Path(out_dir) / Path(f).name).with_suffix('.npy')\n",
    "    if out_path.exists(): continue\n",
    "    \n",
    "    # Get face bounding boxes\n",
    "    try:\n",
    "        bboxes = get_face_bboxes(detector, f, max_dim=512)\n",
    "    except:\n",
    "        msg = f'Error getting boxes for {f}'\n",
    "        print(msg)\n",
    "        write_log(log_path, msg)\n",
    "        continue\n",
    "    \n",
    "    # Save bounding boxes\n",
    "    try:\n",
    "        np.save(out_path, bboxes)\n",
    "    except:\n",
    "        msg = f'Error writing bboxes as .npy for {f}'\n",
    "        print(msg)\n",
    "        write_log(log_path, msg)\n",
    "        continue\n",
    "\n",
    "write_log(log_path, 'Finished')"
   ]
  },
  {
   "cell_type": "code",
   "execution_count": 151,
   "metadata": {},
   "outputs": [
    {
     "data": {
      "text/plain": [
       "True"
      ]
     },
     "execution_count": 151,
     "metadata": {},
     "output_type": "execute_result"
    }
   ],
   "source": [
    "out_path.exists()"
   ]
  },
  {
   "cell_type": "code",
   "execution_count": 161,
   "metadata": {},
   "outputs": [
    {
     "name": "stdout",
     "output_type": "stream",
     "text": [
      "/home/mc/dev/dfdc_train/dfdc_train_part_25/aadqbokerz.mp4\n",
      "/home/mc/dev/dfdc_train/dfdc_train_part_25/abingyvkus.mp4\n",
      "/home/mc/dev/dfdc_train/dfdc_train_part_25/abmnkljiny.mp4\n",
      "/home/mc/dev/dfdc_train/dfdc_train_part_25/abpynckiti.mp4\n",
      "/home/mc/dev/dfdc_train/dfdc_train_part_25/abroglvegl.mp4\n",
      "/home/mc/dev/dfdc_train/dfdc_train_part_25/abtdxltqyc.mp4\n",
      "/home/mc/dev/dfdc_train/dfdc_train_part_25/acbolztzli.mp4\n",
      "/home/mc/dev/dfdc_train/dfdc_train_part_25/acljemtpdq.mp4\n",
      "/home/mc/dev/dfdc_train/dfdc_train_part_25/acscknxbjl.mp4\n",
      "/home/mc/dev/dfdc_train/dfdc_train_part_25/acsfdxosrq.mp4\n"
     ]
    }
   ],
   "source": [
    "for i in df.loc[:, 'filepath'][:10]:\n",
    "    print(i)"
   ]
  },
  {
   "cell_type": "code",
   "execution_count": 150,
   "metadata": {},
   "outputs": [],
   "source": [
    "np.save(out_path, bboxes)"
   ]
  },
  {
   "cell_type": "code",
   "execution_count": 137,
   "metadata": {},
   "outputs": [],
   "source": [
    "bboxes = np.load('/media/mc/2TBNVMESSD/train_bboxes/test.npy', allow_pickle=True)"
   ]
  },
  {
   "cell_type": "code",
   "execution_count": null,
   "metadata": {},
   "outputs": [],
   "source": []
  },
  {
   "cell_type": "code",
   "execution_count": 134,
   "metadata": {},
   "outputs": [],
   "source": [
    "bboxes.append(bboxes[0][0])"
   ]
  },
  {
   "cell_type": "code",
   "execution_count": 162,
   "metadata": {},
   "outputs": [
    {
     "data": {
      "text/html": [
       "<div>\n",
       "<style scoped>\n",
       "    .dataframe tbody tr th:only-of-type {\n",
       "        vertical-align: middle;\n",
       "    }\n",
       "\n",
       "    .dataframe tbody tr th {\n",
       "        vertical-align: top;\n",
       "    }\n",
       "\n",
       "    .dataframe thead th {\n",
       "        text-align: right;\n",
       "    }\n",
       "</style>\n",
       "<table border=\"1\" class=\"dataframe\">\n",
       "  <thead>\n",
       "    <tr style=\"text-align: right;\">\n",
       "      <th></th>\n",
       "      <th>file</th>\n",
       "      <th>label</th>\n",
       "      <th>original</th>\n",
       "      <th>split</th>\n",
       "      <th>filepath</th>\n",
       "      <th>fakes</th>\n",
       "      <th>width</th>\n",
       "      <th>height</th>\n",
       "      <th>fps</th>\n",
       "      <th>num_frames</th>\n",
       "    </tr>\n",
       "  </thead>\n",
       "  <tbody>\n",
       "    <tr>\n",
       "      <th>0</th>\n",
       "      <td>aadqbokerz.mp4</td>\n",
       "      <td>FAKE</td>\n",
       "      <td>uqxeoibzvv.mp4</td>\n",
       "      <td>train</td>\n",
       "      <td>/home/mc/dev/dfdc_train/dfdc_train_part_25/aad...</td>\n",
       "      <td>NaN</td>\n",
       "      <td>1920.0</td>\n",
       "      <td>1080.0</td>\n",
       "      <td>29.9700</td>\n",
       "      <td>300.0</td>\n",
       "    </tr>\n",
       "    <tr>\n",
       "      <th>1</th>\n",
       "      <td>abingyvkus.mp4</td>\n",
       "      <td>FAKE</td>\n",
       "      <td>ejnleiwyex.mp4</td>\n",
       "      <td>train</td>\n",
       "      <td>/home/mc/dev/dfdc_train/dfdc_train_part_25/abi...</td>\n",
       "      <td>NaN</td>\n",
       "      <td>1920.0</td>\n",
       "      <td>1080.0</td>\n",
       "      <td>29.7787</td>\n",
       "      <td>298.0</td>\n",
       "    </tr>\n",
       "    <tr>\n",
       "      <th>2</th>\n",
       "      <td>abmnkljiny.mp4</td>\n",
       "      <td>FAKE</td>\n",
       "      <td>mcmztvtjaz.mp4</td>\n",
       "      <td>train</td>\n",
       "      <td>/home/mc/dev/dfdc_train/dfdc_train_part_25/abm...</td>\n",
       "      <td>NaN</td>\n",
       "      <td>1920.0</td>\n",
       "      <td>1080.0</td>\n",
       "      <td>29.9700</td>\n",
       "      <td>300.0</td>\n",
       "    </tr>\n",
       "    <tr>\n",
       "      <th>3</th>\n",
       "      <td>abpynckiti.mp4</td>\n",
       "      <td>FAKE</td>\n",
       "      <td>esjrjzrfeg.mp4</td>\n",
       "      <td>train</td>\n",
       "      <td>/home/mc/dev/dfdc_train/dfdc_train_part_25/abp...</td>\n",
       "      <td>NaN</td>\n",
       "      <td>1920.0</td>\n",
       "      <td>1080.0</td>\n",
       "      <td>29.9700</td>\n",
       "      <td>300.0</td>\n",
       "    </tr>\n",
       "    <tr>\n",
       "      <th>4</th>\n",
       "      <td>abroglvegl.mp4</td>\n",
       "      <td>FAKE</td>\n",
       "      <td>kgafyxvlhz.mp4</td>\n",
       "      <td>train</td>\n",
       "      <td>/home/mc/dev/dfdc_train/dfdc_train_part_25/abr...</td>\n",
       "      <td>NaN</td>\n",
       "      <td>1080.0</td>\n",
       "      <td>1920.0</td>\n",
       "      <td>29.7883</td>\n",
       "      <td>298.0</td>\n",
       "    </tr>\n",
       "    <tr>\n",
       "      <th>...</th>\n",
       "      <td>...</td>\n",
       "      <td>...</td>\n",
       "      <td>...</td>\n",
       "      <td>...</td>\n",
       "      <td>...</td>\n",
       "      <td>...</td>\n",
       "      <td>...</td>\n",
       "      <td>...</td>\n",
       "      <td>...</td>\n",
       "      <td>...</td>\n",
       "    </tr>\n",
       "    <tr>\n",
       "      <th>119149</th>\n",
       "      <td>zylgvbqkte.mp4</td>\n",
       "      <td>FAKE</td>\n",
       "      <td>gvycszbsqv.mp4</td>\n",
       "      <td>train</td>\n",
       "      <td>/home/mc/dev/dfdc_train/dfdc_train_part_5/zylg...</td>\n",
       "      <td>NaN</td>\n",
       "      <td>1920.0</td>\n",
       "      <td>1080.0</td>\n",
       "      <td>29.9700</td>\n",
       "      <td>300.0</td>\n",
       "    </tr>\n",
       "    <tr>\n",
       "      <th>119150</th>\n",
       "      <td>zyndcjxfwf.mp4</td>\n",
       "      <td>FAKE</td>\n",
       "      <td>ttxuegkaew.mp4</td>\n",
       "      <td>train</td>\n",
       "      <td>/home/mc/dev/dfdc_train/dfdc_train_part_5/zynd...</td>\n",
       "      <td>NaN</td>\n",
       "      <td>1920.0</td>\n",
       "      <td>1080.0</td>\n",
       "      <td>29.9700</td>\n",
       "      <td>300.0</td>\n",
       "    </tr>\n",
       "    <tr>\n",
       "      <th>119151</th>\n",
       "      <td>zywnhhdcku.mp4</td>\n",
       "      <td>FAKE</td>\n",
       "      <td>lhglvsajka.mp4</td>\n",
       "      <td>train</td>\n",
       "      <td>/home/mc/dev/dfdc_train/dfdc_train_part_5/zywn...</td>\n",
       "      <td>NaN</td>\n",
       "      <td>1920.0</td>\n",
       "      <td>1080.0</td>\n",
       "      <td>29.9700</td>\n",
       "      <td>300.0</td>\n",
       "    </tr>\n",
       "    <tr>\n",
       "      <th>119152</th>\n",
       "      <td>zzafzthowz.mp4</td>\n",
       "      <td>FAKE</td>\n",
       "      <td>osnuxyotnv.mp4</td>\n",
       "      <td>train</td>\n",
       "      <td>/home/mc/dev/dfdc_train/dfdc_train_part_5/zzaf...</td>\n",
       "      <td>NaN</td>\n",
       "      <td>1920.0</td>\n",
       "      <td>1080.0</td>\n",
       "      <td>29.9700</td>\n",
       "      <td>300.0</td>\n",
       "    </tr>\n",
       "    <tr>\n",
       "      <th>119153</th>\n",
       "      <td>zzpyxttgbt.mp4</td>\n",
       "      <td>FAKE</td>\n",
       "      <td>wmdnqpfcey.mp4</td>\n",
       "      <td>train</td>\n",
       "      <td>/home/mc/dev/dfdc_train/dfdc_train_part_5/zzpy...</td>\n",
       "      <td>NaN</td>\n",
       "      <td>1920.0</td>\n",
       "      <td>1080.0</td>\n",
       "      <td>29.9700</td>\n",
       "      <td>300.0</td>\n",
       "    </tr>\n",
       "  </tbody>\n",
       "</table>\n",
       "<p>119154 rows × 10 columns</p>\n",
       "</div>"
      ],
      "text/plain": [
       "                  file label        original  split  \\\n",
       "0       aadqbokerz.mp4  FAKE  uqxeoibzvv.mp4  train   \n",
       "1       abingyvkus.mp4  FAKE  ejnleiwyex.mp4  train   \n",
       "2       abmnkljiny.mp4  FAKE  mcmztvtjaz.mp4  train   \n",
       "3       abpynckiti.mp4  FAKE  esjrjzrfeg.mp4  train   \n",
       "4       abroglvegl.mp4  FAKE  kgafyxvlhz.mp4  train   \n",
       "...                ...   ...             ...    ...   \n",
       "119149  zylgvbqkte.mp4  FAKE  gvycszbsqv.mp4  train   \n",
       "119150  zyndcjxfwf.mp4  FAKE  ttxuegkaew.mp4  train   \n",
       "119151  zywnhhdcku.mp4  FAKE  lhglvsajka.mp4  train   \n",
       "119152  zzafzthowz.mp4  FAKE  osnuxyotnv.mp4  train   \n",
       "119153  zzpyxttgbt.mp4  FAKE  wmdnqpfcey.mp4  train   \n",
       "\n",
       "                                                 filepath fakes   width  \\\n",
       "0       /home/mc/dev/dfdc_train/dfdc_train_part_25/aad...   NaN  1920.0   \n",
       "1       /home/mc/dev/dfdc_train/dfdc_train_part_25/abi...   NaN  1920.0   \n",
       "2       /home/mc/dev/dfdc_train/dfdc_train_part_25/abm...   NaN  1920.0   \n",
       "3       /home/mc/dev/dfdc_train/dfdc_train_part_25/abp...   NaN  1920.0   \n",
       "4       /home/mc/dev/dfdc_train/dfdc_train_part_25/abr...   NaN  1080.0   \n",
       "...                                                   ...   ...     ...   \n",
       "119149  /home/mc/dev/dfdc_train/dfdc_train_part_5/zylg...   NaN  1920.0   \n",
       "119150  /home/mc/dev/dfdc_train/dfdc_train_part_5/zynd...   NaN  1920.0   \n",
       "119151  /home/mc/dev/dfdc_train/dfdc_train_part_5/zywn...   NaN  1920.0   \n",
       "119152  /home/mc/dev/dfdc_train/dfdc_train_part_5/zzaf...   NaN  1920.0   \n",
       "119153  /home/mc/dev/dfdc_train/dfdc_train_part_5/zzpy...   NaN  1920.0   \n",
       "\n",
       "        height      fps  num_frames  \n",
       "0       1080.0  29.9700       300.0  \n",
       "1       1080.0  29.7787       298.0  \n",
       "2       1080.0  29.9700       300.0  \n",
       "3       1080.0  29.9700       300.0  \n",
       "4       1920.0  29.7883       298.0  \n",
       "...        ...      ...         ...  \n",
       "119149  1080.0  29.9700       300.0  \n",
       "119150  1080.0  29.9700       300.0  \n",
       "119151  1080.0  29.9700       300.0  \n",
       "119152  1080.0  29.9700       300.0  \n",
       "119153  1080.0  29.9700       300.0  \n",
       "\n",
       "[119154 rows x 10 columns]"
      ]
     },
     "execution_count": 162,
     "metadata": {},
     "output_type": "execute_result"
    }
   ],
   "source": [
    "df"
   ]
  },
  {
   "cell_type": "code",
   "execution_count": 5,
   "metadata": {},
   "outputs": [
    {
     "name": "stdout",
     "output_type": "stream",
     "text": [
      "(300, 1, 5)\n",
      "(300, 1, 5)\n",
      "(300, 1, 5)\n",
      "(300, 1, 5)\n",
      "(300, 1, 5)\n",
      "(300, 1, 5)\n",
      "(300, 1, 5)\n",
      "(298, 1, 5)\n",
      "(300, 1, 5)\n",
      "(300, 1, 5)\n",
      "(300, 1, 5)\n",
      "(300, 1, 5)\n",
      "(298, 1, 5)\n",
      "(298, 1, 5)\n",
      "(297, 1, 5)\n",
      "(300, 1, 5)\n",
      "(300, 1, 5)\n",
      "(300, 1, 5)\n",
      "(298, 1, 5)\n",
      "(300, 2, 5)\n"
     ]
    }
   ],
   "source": [
    "for f in Path('/media/mc/2TBNVMESSD/train_bboxes/').glob('*.npy'):\n",
    "    bboxes = np.load(f)\n",
    "    print(bboxes.shape)"
   ]
  },
  {
   "cell_type": "code",
   "execution_count": 6,
   "metadata": {},
   "outputs": [
    {
     "data": {
      "text/plain": [
       "(297, 1, 5)"
      ]
     },
     "execution_count": 6,
     "metadata": {},
     "output_type": "execute_result"
    }
   ],
   "source": [
    "np.load('/media/mc/2TBNVMESSD/train_bboxes/aewyjymfdv.npy').shape"
   ]
  },
  {
   "cell_type": "code",
   "execution_count": null,
   "metadata": {},
   "outputs": [],
   "source": []
  }
 ],
 "metadata": {
  "kernelspec": {
   "display_name": "Python 3",
   "language": "python",
   "name": "python3"
  },
  "language_info": {
   "codemirror_mode": {
    "name": "ipython",
    "version": 3
   },
   "file_extension": ".py",
   "mimetype": "text/x-python",
   "name": "python",
   "nbconvert_exporter": "python",
   "pygments_lexer": "ipython3",
   "version": "3.7.4"
  }
 },
 "nbformat": 4,
 "nbformat_minor": 4
}
