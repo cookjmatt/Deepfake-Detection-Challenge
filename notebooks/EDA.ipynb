{
 "cells": [
  {
   "cell_type": "code",
   "execution_count": 83,
   "metadata": {},
   "outputs": [],
   "source": [
    "import time\n",
    "from pathlib import Path\n",
    "import json\n",
    "import numpy as np\n",
    "import pandas as pd\n",
    "import torch\n",
    "import torchvision\n",
    "import matplotlib.pyplot as plt\n",
    "import cv2\n",
    "\n",
    "torch.set_printoptions(sci_mode=False, linewidth=200)"
   ]
  },
  {
   "cell_type": "markdown",
   "metadata": {},
   "source": [
    "### Define directory with training files"
   ]
  },
  {
   "cell_type": "code",
   "execution_count": null,
   "metadata": {},
   "outputs": [],
   "source": [
    "train_dir = Path('/home/mc/dev/dfdc_train/')"
   ]
  },
  {
   "cell_type": "markdown",
   "metadata": {},
   "source": [
    "### Read metadata into a single dataframe"
   ]
  },
  {
   "cell_type": "code",
   "execution_count": null,
   "metadata": {},
   "outputs": [],
   "source": [
    "metadata = list(train_dir.glob('*/*.json'))\n",
    "dfs = []\n",
    "for m in metadata:\n",
    "    dfs.append(pd.read_json(m, orient='index').rename_axis('file').reset_index())\n",
    "df = pd.concat(dfs, ignore_index=True)"
   ]
  },
  {
   "cell_type": "markdown",
   "metadata": {},
   "source": [
    "### Add mp4 path to dataframe"
   ]
  },
  {
   "cell_type": "code",
   "execution_count": null,
   "metadata": {},
   "outputs": [],
   "source": [
    "df['filepath'] = np.nan\n",
    "df['filepath'] = df['filepath'].astype(object)\n",
    "for i in range(len(df)):\n",
    "    file = df.loc[i, 'file']\n",
    "    mp4s = list(train_dir.glob(f'*/{file}'))\n",
    "    if len(mp4s) > 0:\n",
    "        df.at[i, 'filepath'] = mp4s[0].as_posix()"
   ]
  },
  {
   "cell_type": "markdown",
   "metadata": {},
   "source": [
    "### For originals, add list of fakes to dataframe"
   ]
  },
  {
   "cell_type": "code",
   "execution_count": null,
   "metadata": {},
   "outputs": [],
   "source": [
    "df['fakes'] = np.nan\n",
    "df['fakes'] = df['fakes'].astype(object)\n",
    "for i in range(len(df)):\n",
    "    if df.loc[i, 'label'] == 'REAL':\n",
    "        file = df.loc[i, 'file']\n",
    "        fakes = df[df['original'] == file]['file'].to_list()\n",
    "        df.at[i, 'fakes'] = fakes"
   ]
  },
  {
   "cell_type": "markdown",
   "metadata": {},
   "source": [
    "### Save dataframe to pickle"
   ]
  },
  {
   "cell_type": "code",
   "execution_count": null,
   "metadata": {},
   "outputs": [],
   "source": [
    "df.to_pickle('/home/mc/dev/deepfake-detection-challenge/notebooks/master_dataframe.pkl')"
   ]
  },
  {
   "cell_type": "markdown",
   "metadata": {},
   "source": [
    "### Load dataframe from pickle"
   ]
  },
  {
   "cell_type": "code",
   "execution_count": 2,
   "metadata": {},
   "outputs": [],
   "source": [
    "df = pd.read_pickle('/home/mc/dev/deepfake-detection-challenge/notebooks/master_dataframe.pkl')"
   ]
  },
  {
   "cell_type": "markdown",
   "metadata": {},
   "source": [
    "### Get real videos and plot distribution of fakes per real video"
   ]
  },
  {
   "cell_type": "code",
   "execution_count": 3,
   "metadata": {},
   "outputs": [
    {
     "data": {
      "image/png": "[encoded data removed]",
      "text/plain": [
       "<Figure size 432x288 with 1 Axes>"
      ]
     },
     "metadata": {
      "needs_background": "light"
     },
     "output_type": "display_data"
    }
   ],
   "source": [
    "real_df = df[df['label'] == 'REAL'].reset_index()\n",
    "num_fakes = []\n",
    "for i in range(len(real_df)):\n",
    "    num_fakes.append(len(real_df.loc[i, 'fakes']))\n",
    "plt.hist(num_fakes);"
   ]
  },
  {
   "cell_type": "markdown",
   "metadata": {},
   "source": [
    "### Function for converting mp4 files to numpy arrays"
   ]
  },
  {
   "cell_type": "code",
   "execution_count": 4,
   "metadata": {},
   "outputs": [],
   "source": [
    "def mp4_to_npy(filepath):\n",
    "    cap = cv2.VideoCapture(filepath)\n",
    "    if not cap.isOpened(): \n",
    "        return np.array([])\n",
    "    frames = []\n",
    "    while cap.isOpened():\n",
    "        ret, frame = cap.read()\n",
    "        if ret:\n",
    "            frames.append(frame)\n",
    "        else: break\n",
    "    return np.stack(frames)"
   ]
  },
  {
   "cell_type": "markdown",
   "metadata": {},
   "source": [
    "### Find regions of frames where real videos differ from fake videos"
   ]
  },
  {
   "cell_type": "code",
   "execution_count": null,
   "metadata": {},
   "outputs": [],
   "source": [
    "i = 0\n",
    "j = 1\n",
    "\n",
    "real_video_name = real_df.loc[i, 'file']\n",
    "real_video_path = real_df.loc[i, 'filepath']\n",
    "fake_video_name = real_df.loc[i, 'fakes'][j]\n",
    "fake_video_path = df[df['file'] == fake_video_name]['filepath'].iloc[0]\n",
    "\n",
    "print(real_video_name, real_video_path)\n",
    "real_video = mp4_to_npy(real_video_path)\n",
    "print(fake_video_name, fake_video_path)\n",
    "fake_video = mp4_to_npy(fake_video_path)"
   ]
  },
  {
   "cell_type": "code",
   "execution_count": null,
   "metadata": {},
   "outputs": [],
   "source": [
    "diff = fake_video.astype(float) - real_video.astype(float)\n",
    "diff = np.absolute(diff).astype('uint8')\n",
    "cutoff = 7 * np.ceil(np.mean(diff) + np.std(diff)).astype('uint8')\n",
    "print(cutoff)"
   ]
  },
  {
   "cell_type": "code",
   "execution_count": null,
   "metadata": {},
   "outputs": [],
   "source": [
    "def xywh_diff(img1, img2, cutoff):\n",
    "    i1 = cv2.blur(img1, (11,11))\n",
    "    i2 = cv2.blur(img2, (11,11))\n",
    "    diff = i1.astype(np.float32) - i2.astype(np.float32)\n",
    "    abs_diff = np.absolute(diff).astype('uint8')\n",
    "    #cutoff = std_cutoff * np.ceil(np.mean(diff) + np.std(diff)).astype('uint8')\n",
    "    x, y, _ = (diff > cutoff).nonzero()\n",
    "    x1 = min(x)\n",
    "    x2 = max(x)\n",
    "    y1 = min(y)\n",
    "    y2 = max(y)\n",
    "    x = int((x1 + x2) / 2)\n",
    "    y = int((y1 + y2) / 2)\n",
    "    w = int(x2 - x1)\n",
    "    h = int(y2 - y1)\n",
    "    return x, y, w, h, img1[x1:x2, y1:y2], img2[x1:x2, y1:y2]"
   ]
  },
  {
   "cell_type": "code",
   "execution_count": null,
   "metadata": {},
   "outputs": [],
   "source": [
    "img1 = real_video[0]\n",
    "img2 = fake_video[0]\n",
    "x, y, w, h, i1, i2 = xywh_diff(img1, img2, 30)\n",
    "print(x,y,w,h)"
   ]
  },
  {
   "cell_type": "code",
   "execution_count": null,
   "metadata": {},
   "outputs": [],
   "source": [
    "def video_diff_coords(video1, video2, cutoff):\n",
    "    coords = []\n",
    "    for i, j in zip(video1, video2):\n",
    "        x, y, w, h, _, _ = xywh_diff(i, j, cutoff)\n",
    "        coords.append(np.array([x, y, w, h]))\n",
    "    return np.stack(coords)"
   ]
  },
  {
   "cell_type": "code",
   "execution_count": null,
   "metadata": {},
   "outputs": [],
   "source": [
    "coords = video_diff_coords(real_video, fake_video, 20)"
   ]
  },
  {
   "cell_type": "code",
   "execution_count": null,
   "metadata": {},
   "outputs": [],
   "source": [
    "width = max(coords[:, 2])\n",
    "height = max(coords[:, 3])\n",
    "print(width, height)"
   ]
  },
  {
   "cell_type": "code",
   "execution_count": null,
   "metadata": {},
   "outputs": [],
   "source": [
    "x, y, w, h, i1, i2 = xywh_diff(real_video[0], fake_video[0], 10)\n",
    "print(x, y, w, h)"
   ]
  },
  {
   "cell_type": "code",
   "execution_count": null,
   "metadata": {},
   "outputs": [],
   "source": [
    "plt.imshow(i1)"
   ]
  },
  {
   "cell_type": "code",
   "execution_count": null,
   "metadata": {},
   "outputs": [],
   "source": [
    "plt.imshow(i2)"
   ]
  },
  {
   "cell_type": "code",
   "execution_count": null,
   "metadata": {},
   "outputs": [],
   "source": [
    "diff = np.absolute(i2.astype(float) - i1.astype(float)).astype('uint8')"
   ]
  },
  {
   "cell_type": "code",
   "execution_count": null,
   "metadata": {},
   "outputs": [],
   "source": [
    "diff = np.absolute(real_video[0].astype(float) - fake_video[0].astype(float)).astype('uint8')"
   ]
  },
  {
   "cell_type": "code",
   "execution_count": null,
   "metadata": {},
   "outputs": [],
   "source": [
    "plt.imshow(diff)"
   ]
  },
  {
   "cell_type": "code",
   "execution_count": null,
   "metadata": {},
   "outputs": [],
   "source": [
    "plt.imshow(cv2.GaussianBlur(diff, (11,11), 1))"
   ]
  },
  {
   "cell_type": "code",
   "execution_count": null,
   "metadata": {},
   "outputs": [],
   "source": [
    "np.max(cv2.GaussianBlur(diff, (11,11), 0))"
   ]
  },
  {
   "cell_type": "code",
   "execution_count": null,
   "metadata": {},
   "outputs": [],
   "source": [
    "real_video[0].shape"
   ]
  },
  {
   "cell_type": "code",
   "execution_count": null,
   "metadata": {},
   "outputs": [],
   "source": [
    "test_img = torch.Tensor(real_video[0].transpose(2, 0, 1).astype(np.float32)) / 255.0"
   ]
  },
  {
   "cell_type": "markdown",
   "metadata": {},
   "source": [
    "### Face detection"
   ]
  },
  {
   "cell_type": "code",
   "execution_count": null,
   "metadata": {},
   "outputs": [],
   "source": [
    "model = torchvision.models.detection.keypointrcnn_resnet50_fpn(pretrained=True)\n",
    "model.eval()"
   ]
  },
  {
   "cell_type": "code",
   "execution_count": null,
   "metadata": {},
   "outputs": [],
   "source": [
    "with torch.no_grad(): pred = model([test_img])"
   ]
  },
  {
   "cell_type": "code",
   "execution_count": null,
   "metadata": {},
   "outputs": [],
   "source": [
    "plt.imshow(test_img.permute(1, 2, 0));"
   ]
  },
  {
   "cell_type": "code",
   "execution_count": null,
   "metadata": {},
   "outputs": [],
   "source": [
    "def plot_coords_on_img(img, coords):\n",
    "    im = img.copy()\n",
    "    for coord in coords:\n",
    "        cv2.circle(im, tuple(coord), 10, (255, 0, 0), -1, 3)\n",
    "    return im\n",
    "\n",
    "def plot_box_on_img(img, coords):\n",
    "    im = img.copy()\n",
    "    cv2.rectangle(im, tuple(coords[:2]), tuple(coords[2:]), (255, 0, 0), 10)\n",
    "    return im"
   ]
  },
  {
   "cell_type": "code",
   "execution_count": null,
   "metadata": {},
   "outputs": [],
   "source": []
  },
  {
   "cell_type": "code",
   "execution_count": null,
   "metadata": {},
   "outputs": [],
   "source": [
    "ann_img = test_img.permute(1, 2, 0).numpy()\n",
    "coords = pred[0]['keypoints'][0].numpy().astype(int)[:, :2]\n",
    "box = pred[0]['boxes'][0].numpy().astype(int)"
   ]
  },
  {
   "cell_type": "code",
   "execution_count": null,
   "metadata": {},
   "outputs": [],
   "source": [
    "img = plot_coords_on_img(ann_img, coords)\n",
    "img = plot_box_on_img(img, box)"
   ]
  },
  {
   "cell_type": "code",
   "execution_count": null,
   "metadata": {},
   "outputs": [],
   "source": [
    "plt.figure(figsize=(15,15))\n",
    "plt.imshow(img);"
   ]
  },
  {
   "cell_type": "markdown",
   "metadata": {},
   "source": [
    "### Calculate face keypoints for real and fake videos"
   ]
  },
  {
   "cell_type": "code",
   "execution_count": 5,
   "metadata": {},
   "outputs": [
    {
     "name": "stdout",
     "output_type": "stream",
     "text": [
      "acscknxbjl.mp4 /home/mc/dev/dfdc_train/dfdc_train_part_25/acscknxbjl.mp4\n",
      "piaybeiamv.mp4 /home/mc/dev/dfdc_train/dfdc_train_part_25/piaybeiamv.mp4\n"
     ]
    }
   ],
   "source": [
    "i = 0\n",
    "j = 1\n",
    "\n",
    "real_video_name = real_df.loc[i, 'file']\n",
    "real_video_path = real_df.loc[i, 'filepath']\n",
    "fake_video_name = real_df.loc[i, 'fakes'][j]\n",
    "fake_video_path = df[df['file'] == fake_video_name]['filepath'].iloc[0]\n",
    "\n",
    "print(real_video_name, real_video_path)\n",
    "real_video = mp4_to_npy(real_video_path)\n",
    "print(fake_video_name, fake_video_path)\n",
    "fake_video = mp4_to_npy(fake_video_path)"
   ]
  },
  {
   "cell_type": "code",
   "execution_count": 6,
   "metadata": {},
   "outputs": [
    {
     "name": "stdout",
     "output_type": "stream",
     "text": [
      "Model ready\n"
     ]
    }
   ],
   "source": [
    "model = torchvision.models.detection.keypointrcnn_resnet50_fpn(pretrained=True)\n",
    "model = model.cuda()\n",
    "model.eval()\n",
    "print('Model ready')"
   ]
  },
  {
   "cell_type": "code",
   "execution_count": 81,
   "metadata": {},
   "outputs": [],
   "source": [
    "def output_to_face_coords(pred):\n",
    "    keypoints = pred['keypoints'][0][:5, :2].cpu().numpy() # nose, left_eye, right_eye, left_ear, right_ear\n",
    "    scores = pred['keypoints_scores'][0][:5].cpu().numpy()\n",
    "    scores = np.expand_dims(scores, 1)\n",
    "    return np.hstack((keypoints, scores))\n",
    "\n",
    "def video_to_face_coords(video):\n",
    "    model_inp = torch.Tensor(video.transpose(0, 3, 1, 2).astype('float32') / 255.0)\n",
    "    preds = []\n",
    "    for i in model_inp:\n",
    "        with torch.no_grad():\n",
    "            pred = model([i.cuda()])\n",
    "            preds.append(pred[0])\n",
    "    preds = np.stack([output_to_face_coords(i) for i in preds])\n",
    "    return preds"
   ]
  },
  {
   "cell_type": "code",
   "execution_count": 84,
   "metadata": {},
   "outputs": [
    {
     "name": "stdout",
     "output_type": "stream",
     "text": [
      "19.57s\n"
     ]
    }
   ],
   "source": [
    "start = time.time()\n",
    "pred = video_to_face_coords(real_video)\n",
    "print(f'{time.time() - start:.2f}s')"
   ]
  },
  {
   "cell_type": "code",
   "execution_count": 89,
   "metadata": {},
   "outputs": [
    {
     "data": {
      "text/plain": [
       "(300, 5, 3)"
      ]
     },
     "execution_count": 89,
     "metadata": {},
     "output_type": "execute_result"
    }
   ],
   "source": [
    "preds.shape"
   ]
  },
  {
   "cell_type": "code",
   "execution_count": null,
   "metadata": {},
   "outputs": [],
   "source": []
  }
 ],
 "metadata": {
  "kernelspec": {
   "display_name": "Python 3",
   "language": "python",
   "name": "python3"
  },
  "language_info": {
   "codemirror_mode": {
    "name": "ipython",
    "version": 3
   },
   "file_extension": ".py",
   "mimetype": "text/x-python",
   "name": "python",
   "nbconvert_exporter": "python",
   "pygments_lexer": "ipython3",
   "version": "3.7.4"
  }
 },
 "nbformat": 4,
 "nbformat_minor": 4
}
